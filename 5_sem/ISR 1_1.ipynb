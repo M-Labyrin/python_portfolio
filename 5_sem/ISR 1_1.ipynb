{
 "metadata": {
  "language_info": {
   "codemirror_mode": {
    "name": "ipython",
    "version": 3
   },
   "file_extension": ".py",
   "mimetype": "text/x-python",
   "name": "python",
   "nbconvert_exporter": "python",
   "pygments_lexer": "ipython3",
   "version": "3.9.0"
  },
  "orig_nbformat": 4,
  "kernelspec": {
   "name": "python3",
   "display_name": "Python 3.9.0 64-bit"
  },
  "interpreter": {
   "hash": "469d11c761a7bef7fed52bba81f9dd7f36acf1b62b671ca9bd33e98c44d74d68"
  }
 },
 "nbformat": 4,
 "nbformat_minor": 2,
 "cells": [
  {
   "source": [
    "# Модуль Math #\n",
    "\n",
    "Этот модуль обеспечивает доступ к математическим функциям, определенным стандартом C. Он предоставляет обширный функционал для работы с числами. За исключением случаев, когда явно указано иное, все возвращаемые значения являются числами с плавающей запятой.\n",
    "\n",
    "Вот некооторые из функций модуля:\n",
    "\n",
    "    math.ceil(X) – округление до ближайшего большего числа.\n",
    "    math.fabs(X) - модуль X.\n",
    "    math.factorial(X) - факториал числа X.\n",
    "    math.floor(X) - округление вниз.\n",
    "    math.exp(X) - e в степени.\n",
    "    math.expm1(X) - eX - 1. При X → 0 точнее, чем math.exp(X)-1.\n",
    "    math.log(X, base) - логарифм X по основанию base. Если base не указан, вычисляется натуральный логарифм.\n",
    "    math.log10(X) - логарифм X по основанию 10.\n",
    "    math.log2(X) - логарифм X по основанию 2.\n",
    "    math.pow(X, Y) - возведение X в степени Y.\n",
    "    math.sqrt(X) - квадратный корень из X.\n",
    "    math.acos(X) - арккосинус X. В радианах.\n",
    "    math.asin(X) - арксинус X. В радианах.\n",
    "    math.atan(X) - арктангенс X. В радианах.\n",
    "    math.cos(X) - косинус X (X указывается в радианах).\n",
    "    math.sin(X) - синус X (X указывается в радианах).\n",
    "    math.tan(X) - тангенс X (X указывается в радианах).\n",
    "    math.degrees(X) - конвертирует радианы в градусы.\n",
    "    math.radians(X) - конвертирует градусы в радианы.\n",
    "    math.cosh(X) - вычисляет гиперболический косинус.\n",
    "    math.sinh(X) - вычисляет гиперболический синус.\n",
    "    math.tanh(X) - вычисляет гиперболический тангенс.\n",
    "\n",
    "Также у модуля есть несколько констант:\n",
    "\n",
    "    math.pi - pi = 3,1415926...\n",
    "    math.e - e = 2,718281...\n",
    "    math.tau- t = 6,28318...\n",
    "    math.inf - ∞\n",
    "    math.nan - NaN типа float\n",
    "\n",
    "Вот примеры работы некоторых из функций:\n"
   ],
   "cell_type": "markdown",
   "metadata": {}
  },
  {
   "cell_type": "code",
   "execution_count": 3,
   "metadata": {},
   "outputs": [
    {
     "output_type": "execute_result",
     "data": {
      "text/plain": [
       "2"
      ]
     },
     "metadata": {},
     "execution_count": 3
    }
   ],
   "source": [
    "import math \n",
    "\n",
    "x = 1.501\n",
    "\n",
    "math.ceil(x)"
   ]
  },
  {
   "cell_type": "code",
   "execution_count": 4,
   "metadata": {},
   "outputs": [
    {
     "output_type": "execute_result",
     "data": {
      "text/plain": [
       "1.501"
      ]
     },
     "metadata": {},
     "execution_count": 4
    }
   ],
   "source": [
    "math.fabs(x)"
   ]
  },
  {
   "cell_type": "code",
   "execution_count": 5,
   "metadata": {},
   "outputs": [
    {
     "output_type": "execute_result",
     "data": {
      "text/plain": [
       "0.17638069224327035"
      ]
     },
     "metadata": {},
     "execution_count": 5
    }
   ],
   "source": [
    "math.log10(x)"
   ]
  },
  {
   "cell_type": "code",
   "execution_count": 6,
   "metadata": {},
   "outputs": [
    {
     "output_type": "execute_result",
     "data": {
      "text/plain": [
       "1.0471975511965976"
      ]
     },
     "metadata": {},
     "execution_count": 6
    }
   ],
   "source": [
    "angle = 60\n",
    "math.radians(angle)"
   ]
  }
 ]
}